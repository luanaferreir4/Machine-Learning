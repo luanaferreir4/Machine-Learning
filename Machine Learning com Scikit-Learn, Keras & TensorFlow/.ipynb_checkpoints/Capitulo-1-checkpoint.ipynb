{
 "cells": [
  {
   "cell_type": "markdown",
   "id": "c085cf28-c2e4-4542-90f9-cca60f39054d",
   "metadata": {},
   "source": [
    "## Mãos a Obra: Aprendizado de Máquina com Scikit-Learn, Keras e TensorFlow\n",
    "#### CONCEITOS, FERRAMENTAS E TÉCNICAS PARA A CONSTRUÇÃO DE SISTEMAS INTELIGENTES\n",
    "O Aprendizado de Máquina foi primeiro introduzido como *Reconhecimento Ótico de Caracteres (OCR)* em alguns aplicativos específicos, mas o que mais conquistou e melhorou a vida de centenas de milhares de pessoas foi o *filtro de spam* que hoje aprendeu tão bem que pode ser classificado tecnicamente como Aprendizado de Máquina (uma máquina que aprendeu tão bem que raramente é necessário marcar um e-mail como spam).\n",
    "\n",
    "#### O que é Aprendizado de Máquina?\n",
    "Aprendizado de Máquina é a ciência (e a arte) da programação de computadores de modo que possam aprender com os dados. \n",
    "\n",
    "#### Termos de Aprendizado de Máquina\n",
    "- **Conjuntos de treinamentos:** Exemplos utilizados para o sistema para o aprendizado.\n",
    "- **Instância de treinamento:** Cada exemplo de treinamento.\n",
    "- **'ham':** Não spam.\n",
    "- **Acurácia:** A tarefa T sinaliza os e-mails novos como spam, a experiência E é o dado de treinamento e a medida de desempenho P precisa ser definida; por exemplo, você pode utilizar a proporção de e-mails sinalizados corretamente. Essa medida de desempenho particular se chama *acurácia* e é usada frequentemente em tarefas de classificação. (precisão)\n",
    "- **Mineração de dados:** Uma vez que o filtro foi treinado para o spam, ele pode simplesmente ser inspecionado e evidenciar uma lista de palavras e combinações previstas que ele acredita serem as mais prováveis. Ás vezes, isso revelará correlações não esperadas, ou tendências novas, resultando em uma melhor compreensão do problema. Aplicar técnicas do AM para se aprofundar em grandes quantidades de dados pode ajudar na descoberta de padrões que não eram explícitos. Isso se chama *mineração de dados*. \n",
    "\n",
    "##### Resumindo, o aprendizado de máquina é ótimo para:\n",
    "- **Problemas para os quais as soluções atuais exigem muitos ajustes finos ou extensas listas de regras:** Um algoritmo de aprendizado de máquina geralmente simplifica e tem um desempenho melhor do que a abordagem tradicional.\n",
    "- **Problemas complexos para os quais não existe uma boa solução quando utilizamos uma abordagem tradicional:** "
   ]
  },
  {
   "cell_type": "code",
   "execution_count": null,
   "id": "97f951fd-7b01-46eb-a0df-0097aa16fd2d",
   "metadata": {},
   "outputs": [],
   "source": []
  }
 ],
 "metadata": {
  "kernelspec": {
   "display_name": "Python 3 (ipykernel)",
   "language": "python",
   "name": "python3"
  },
  "language_info": {
   "codemirror_mode": {
    "name": "ipython",
    "version": 3
   },
   "file_extension": ".py",
   "mimetype": "text/x-python",
   "name": "python",
   "nbconvert_exporter": "python",
   "pygments_lexer": "ipython3",
   "version": "3.11.1"
  }
 },
 "nbformat": 4,
 "nbformat_minor": 5
}
